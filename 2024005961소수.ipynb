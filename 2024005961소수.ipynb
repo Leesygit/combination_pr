{
 "cells": [
  {
   "cell_type": "markdown",
   "id": "f0ae96b3",
   "metadata": {},
   "source": [
    "# 주어진 숫자 리스트에서 소수가 되는 경우의 수 찾기"
   ]
  },
  {
   "cell_type": "markdown",
   "id": "535938eb",
   "metadata": {},
   "source": [
    "* nums에 들어있는 숫자의 개수는 3개 이상 50개 이하입니다."
   ]
  },
  {
   "cell_type": "markdown",
   "id": "2567d24b",
   "metadata": {},
   "source": [
    "* nums의 각 원소는 1 이상 1,000 이하의 자연수이며, 중복된 숫자가 들어있지 않습니다."
   ]
  },
  {
   "cell_type": "code",
   "execution_count": 2,
   "id": "25096009",
   "metadata": {},
   "outputs": [
    {
     "name": "stdout",
     "output_type": "stream",
     "text": [
      "4\n"
     ]
    }
   ],
   "source": [
    "def combinations(iterable, r):\n",
    "    pool = tuple(iterable)\n",
    "    n = len(pool)\n",
    "    if r > n:\n",
    "        return\n",
    "    indices = list(range(r))\n",
    "    yield tuple(pool[i] for i in indices)\n",
    "    while True:\n",
    "        for i in reversed(range(r)):\n",
    "            if indices[i] != i + n - r:\n",
    "                break\n",
    "        else:\n",
    "            return\n",
    "        indices[i] += 1\n",
    "        for j in range(i+1, r):\n",
    "            indices[j] = indices[j-1] + 1\n",
    "        yield tuple(pool[i] for i in indices)\n",
    "\n",
    "def is_prime(n):\n",
    "    if n % 2 == 0:\n",
    "        return False\n",
    "    for i in range(3, n):\n",
    "        if n % i == 0:\n",
    "            return False\n",
    "    return True\n",
    "\n",
    "def solution(nums):\n",
    "    pri = 0\n",
    "    for combo in combinations(nums, 3): \n",
    "        a, b, c = combo\n",
    "        total = a + b + c \n",
    "        if is_prime(total):\n",
    "            pri += 1\n",
    "    return pri\n",
    "\n",
    "nums = [1, 2, 7, 6, 4]\n",
    "print(solution(nums))"
   ]
  },
  {
   "cell_type": "markdown",
   "id": "5c06cff6",
   "metadata": {},
   "source": [
    "* combination 함수: 조합"
   ]
  },
  {
   "cell_type": "markdown",
   "id": "51855449",
   "metadata": {},
   "source": [
    "* is_prime 함수: 소수 판별(짝수가 아니면 하나씩 나눠봄)"
   ]
  },
  {
   "cell_type": "markdown",
   "id": "6a3b3da6",
   "metadata": {},
   "source": [
    "* solution 함수: 위의 함수들을 이용해 total이 소수가 되는 경우의 수 카운트"
   ]
  },
  {
   "cell_type": "code",
   "execution_count": null,
   "id": "b3bad6df",
   "metadata": {},
   "outputs": [],
   "source": []
  }
 ],
 "metadata": {
  "kernelspec": {
   "display_name": "Python 3 (ipykernel)",
   "language": "python",
   "name": "python3"
  },
  "language_info": {
   "codemirror_mode": {
    "name": "ipython",
    "version": 3
   },
   "file_extension": ".py",
   "mimetype": "text/x-python",
   "name": "python",
   "nbconvert_exporter": "python",
   "pygments_lexer": "ipython3",
   "version": "3.9.12"
  }
 },
 "nbformat": 4,
 "nbformat_minor": 5
}
