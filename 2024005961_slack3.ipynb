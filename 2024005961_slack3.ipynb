{
 "cells": [
  {
   "cell_type": "markdown",
   "id": "df6b0836",
   "metadata": {},
   "source": [
    "## 1. 주민등록번호를 입력 받아서 성별 판별(day1)"
   ]
  },
  {
   "cell_type": "markdown",
   "id": "7cb27286",
   "metadata": {},
   "source": [
    "* 000000-0000000 13자리 숫자 중 7번째 숫자가 성별을 결정하므로 list[6]의 짝수 여부를 확인함"
   ]
  },
  {
   "cell_type": "code",
   "execution_count": 3,
   "id": "f6994aa5",
   "metadata": {},
   "outputs": [
    {
     "name": "stdout",
     "output_type": "stream",
     "text": [
      "주민등록번호 : 0308064567891\n",
      "여성\n"
     ]
    }
   ],
   "source": [
    "list = []\n",
    "list = input(\"주민등록번호 : \")\n",
    "if int(list[6]) % 2 == 1:\n",
    "    print(\"남성\")\n",
    "else:\n",
    "    print(\"여성\")"
   ]
  },
  {
   "cell_type": "markdown",
   "id": "588a7ca4",
   "metadata": {},
   "source": [
    "## 2. 윤년 판별(day29)"
   ]
  },
  {
   "cell_type": "markdown",
   "id": "2a3b795f",
   "metadata": {},
   "source": [
    "* 1. 400으로 나누었을 때 몫이 0이거나 2. 4의 배수이면서 100의 배수가 아니면 윤년임을 함수로 "
   ]
  },
  {
   "cell_type": "code",
   "execution_count": 12,
   "id": "897ac84a",
   "metadata": {},
   "outputs": [
    {
     "name": "stdout",
     "output_type": "stream",
     "text": [
      "년도 값 입력: 2010\n",
      "False\n"
     ]
    }
   ],
   "source": [
    "def leap_year(y):\n",
    "    if y % 400 == 0 or (y % 100 != 0 and y % 4 == 0):\n",
    "        return True\n",
    "    else:\n",
    "        return False\n",
    "year = int(input(\"년도 값 입력: \"))\n",
    "print(leap_year(year))"
   ]
  },
  {
   "cell_type": "markdown",
   "id": "10876b16",
   "metadata": {},
   "source": [
    "## 3. 알파벳 대소문자 변경(day30)"
   ]
  },
  {
   "cell_type": "markdown",
   "id": "f487d007",
   "metadata": {},
   "source": [
    "* if문으로 입력된 문자열이 알파벳인지 판별"
   ]
  },
  {
   "cell_type": "markdown",
   "id": "1983b804",
   "metadata": {},
   "source": [
    "alp_con = \"\"\n",
    "while True:\n",
    "    alp = input(\"영어로 된 문자열 입력: \")\n",
    "    if alp.isalpha() == False:\n",
    "        print(\"알파벳으로만 입력\\n\")\n",
    "        continue"
   ]
  },
  {
   "cell_type": "markdown",
   "id": "974f19c0",
   "metadata": {},
   "source": [
    "* 알파벳으로 된 문자열이 입력된 경우 isupper()로 대소문자 판별 후 변경"
   ]
  },
  {
   "cell_type": "markdown",
   "id": "24e9f8bf",
   "metadata": {},
   "source": [
    "    else:\n",
    "        for i in alp:\n",
    "            if i.isupper():\n",
    "                alp_con += i.lower()\n",
    "            else:\n",
    "                alp_con += i.upper()\n",
    "        break\n",
    "print(f'{alp}->{alp_con}')"
   ]
  },
  {
   "cell_type": "markdown",
   "id": "5ffdd6ef",
   "metadata": {},
   "source": [
    "* 실행 결과"
   ]
  },
  {
   "cell_type": "code",
   "execution_count": 15,
   "id": "9cd5d3ab",
   "metadata": {},
   "outputs": [
    {
     "name": "stdout",
     "output_type": "stream",
     "text": [
      "영어로 된 문자열 입력: COMpuTER\n",
      "COMpuTER->comPUter\n"
     ]
    }
   ],
   "source": [
    "alp_con = \"\"\n",
    "while True:\n",
    "    alp = input(\"영어로 된 문자열 입력: \")\n",
    "    if alp.isalpha() == False:\n",
    "        print(\"알파벳으로만 입력\\n\")\n",
    "        continue\n",
    "    else:\n",
    "        for i in alp:\n",
    "            if i.isupper():\n",
    "                alp_con += i.lower()\n",
    "            else:\n",
    "                alp_con += i.upper()\n",
    "        break\n",
    "print(f'{alp}->{alp_con}')"
   ]
  }
 ],
 "metadata": {
  "kernelspec": {
   "display_name": "Python 3 (ipykernel)",
   "language": "python",
   "name": "python3"
  },
  "language_info": {
   "codemirror_mode": {
    "name": "ipython",
    "version": 3
   },
   "file_extension": ".py",
   "mimetype": "text/x-python",
   "name": "python",
   "nbconvert_exporter": "python",
   "pygments_lexer": "ipython3",
   "version": "3.9.12"
  }
 },
 "nbformat": 4,
 "nbformat_minor": 5
}
